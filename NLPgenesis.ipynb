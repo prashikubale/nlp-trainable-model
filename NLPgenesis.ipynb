{
  "nbformat": 4,
  "nbformat_minor": 0,
  "metadata": {
    "colab": {
      "provenance": []
    },
    "kernelspec": {
      "name": "python3",
      "display_name": "Python 3"
    },
    "language_info": {
      "name": "python"
    }
  },
  "cells": [
    {
      "cell_type": "markdown",
      "source": [
        "here in initialisation\n",
        "random could be for random responses"
      ],
      "metadata": {
        "id": "X5M7NxrH-9W6"
      }
    },
    {
      "cell_type": "code",
      "execution_count": 5,
      "metadata": {
        "id": "yFF_JAh4-kBg"
      },
      "outputs": [],
      "source": [
        "import numpy as np\n",
        "import nltk\n",
        "import string\n",
        "import random"
      ]
    },
    {
      "cell_type": "code",
      "source": [
        "f = open('/content/dataset.txt','r',errors = 'ignore')\n",
        "raw = f.read()\n",
        "raw = raw.lower() #converting everything into lower text"
      ],
      "metadata": {
        "id": "ABIin6Mx_pWF"
      },
      "execution_count": 7,
      "outputs": []
    },
    {
      "cell_type": "markdown",
      "source": [
        "nltk.sent_tokenize(raw) takes a string raw and splits it into a list of sentences. This function uses pre-trained models to identify sentence boundaries, which works well with English text.\n",
        "\n",
        "nltk.word_tokenize(raw) takes a string raw and splits it into a list of words (tokens). This function handles punctuation and special characters appropriately."
      ],
      "metadata": {
        "id": "qK6Wut3RGhp0"
      }
    },
    {
      "cell_type": "code",
      "source": [
        "nltk.download('punkt') #first we have to download the punkt package\n",
        "nltk.download('wordnet') #second we have to download the wordnet\n",
        "nltk.download('omw-1.4')\n",
        "sentence_tokens = nltk.sent_tokenize(raw) #converting into sentences\n",
        "word_tokens = nltk.word_tokenize(raw) #converting into words"
      ],
      "metadata": {
        "colab": {
          "base_uri": "https://localhost:8080/"
        },
        "id": "ZV0diTLg_qvu",
        "outputId": "ea491e61-79ba-499d-fc00-6fc540a183db"
      },
      "execution_count": 8,
      "outputs": [
        {
          "output_type": "stream",
          "name": "stderr",
          "text": [
            "[nltk_data] Downloading package punkt to /root/nltk_data...\n",
            "[nltk_data]   Package punkt is already up-to-date!\n",
            "[nltk_data] Downloading package wordnet to /root/nltk_data...\n",
            "[nltk_data]   Package wordnet is already up-to-date!\n",
            "[nltk_data] Downloading package omw-1.4 to /root/nltk_data...\n",
            "[nltk_data]   Package omw-1.4 is already up-to-date!\n"
          ]
        }
      ]
    },
    {
      "cell_type": "markdown",
      "source": [
        "before tokenization"
      ],
      "metadata": {
        "id": "Yt6Zd7ESK6SA"
      }
    },
    {
      "cell_type": "code",
      "source": [
        "raw"
      ],
      "metadata": {
        "colab": {
          "base_uri": "https://localhost:8080/",
          "height": 36
        },
        "id": "ZW1WQ05lHsoe",
        "outputId": "2694fdbb-5426-4a3d-8eb4-388ab51a86eb"
      },
      "execution_count": 9,
      "outputs": [
        {
          "output_type": "execute_result",
          "data": {
            "text/plain": [
              "'rule no. 1 = nobody talks about the fight club'"
            ],
            "application/vnd.google.colaboratory.intrinsic+json": {
              "type": "string"
            }
          },
          "metadata": {},
          "execution_count": 9
        }
      ]
    },
    {
      "cell_type": "code",
      "source": [
        "sentence_tokens = nltk.sent_tokenize(raw) #converting into sentences\n",
        "word_tokens = nltk.word_tokenize(raw) #converting into words"
      ],
      "metadata": {
        "id": "jMi2SDd0H-tq"
      },
      "execution_count": 10,
      "outputs": []
    },
    {
      "cell_type": "markdown",
      "source": [
        "after tokennization"
      ],
      "metadata": {
        "id": "F4j62RzrK19P"
      }
    },
    {
      "cell_type": "code",
      "source": [
        "sentence_tokens[:2]"
      ],
      "metadata": {
        "colab": {
          "base_uri": "https://localhost:8080/"
        },
        "id": "7wBughYOH-7z",
        "outputId": "0cb0c832-3f5a-46d4-99a0-ccefb3bc7294"
      },
      "execution_count": 11,
      "outputs": [
        {
          "output_type": "execute_result",
          "data": {
            "text/plain": [
              "['rule no.', '1 = nobody talks about the fight club']"
            ]
          },
          "metadata": {},
          "execution_count": 11
        }
      ]
    },
    {
      "cell_type": "code",
      "source": [
        "word_tokens[:3]"
      ],
      "metadata": {
        "colab": {
          "base_uri": "https://localhost:8080/"
        },
        "id": "tbKyUZVjKYqU",
        "outputId": "1d0c474c-75c2-4555-a459-44d5347cc06a"
      },
      "execution_count": 12,
      "outputs": [
        {
          "output_type": "execute_result",
          "data": {
            "text/plain": [
              "['rule', 'no', '.']"
            ]
          },
          "metadata": {},
          "execution_count": 12
        }
      ]
    },
    {
      "cell_type": "markdown",
      "source": [
        "**Text Pre-Processing**"
      ],
      "metadata": {
        "id": "HbvRD0TYKtCn"
      }
    },
    {
      "cell_type": "code",
      "source": [
        "lemmer = nltk.stem.WordNetLemmatizer()\n",
        "def LemTokens(tokens):\n",
        "  return [lemmer.lemmatize(token) for token in tokens]\n",
        "remove_punct_dict = dict((ord(punct),None) for punct in string.punctuation)\n",
        "def LemNormalize(text):\n",
        "  return LemTokens(nltk.word_tokenize(text.lower().translate(remove_punct_dict)))"
      ],
      "metadata": {
        "id": "38xCltW9LPxF"
      },
      "execution_count": 13,
      "outputs": []
    },
    {
      "cell_type": "markdown",
      "source": [
        "Greeting funtions hai ye"
      ],
      "metadata": {
        "id": "bcnLx2xJy9G-"
      }
    },
    {
      "cell_type": "code",
      "source": [
        "greet_inputs = ('hello','hi','greetings','sup','hey',\"hello there\")\n",
        "greet_responses = ['hi','hey','*nods*','hi there']\n",
        "def greet(sentence):\n",
        "  for word in sentence.split():\n",
        "    if word.lower() in greet_inputs:\n",
        "      return random.choice(greet_responses)"
      ],
      "metadata": {
        "id": "D2Cwkh4ZzJQd"
      },
      "execution_count": 15,
      "outputs": []
    },
    {
      "cell_type": "markdown",
      "source": [
        "bot ke response generation"
      ],
      "metadata": {
        "id": "3ns3BlQXzSHG"
      }
    },
    {
      "cell_type": "code",
      "source": [
        "from sklearn.feature_extraction.text import TfidfVectorizer\n",
        "from sklearn.metrics.pairwise import cosine_similarity"
      ],
      "metadata": {
        "id": "99yDO0t_zaHu"
      },
      "execution_count": 16,
      "outputs": []
    },
    {
      "cell_type": "code",
      "source": [
        "def response(user_response):\n",
        "  robo1_response = ''\n",
        "  TfidfVec = TfidfVectorizer(tokenizer=LemNormalize,stop_words='english')\n",
        "  tfidf = TfidfVec.fit_transform(sentence_tokens)\n",
        "  vals = cosine_similarity(tfidf[-1],tfidf)\n",
        "  idx = vals.argsort()[0][-2]\n",
        "  flat = vals.flatten()\n",
        "  flat.sort()\n",
        "  req_tfidf = flat[-2]\n",
        "  if req_tfidf == 0:\n",
        "    robo1_response = robo1_response + \"I am sorry! I don't understand you\"\n",
        "    return robo1_response\n",
        "  else:\n",
        "    robo1_response = robo1_response + sentence_tokens[idx]\n",
        "    return robo1_response"
      ],
      "metadata": {
        "id": "-6gXIxce0KTt"
      },
      "execution_count": 17,
      "outputs": []
    },
    {
      "cell_type": "markdown",
      "source": [
        "Abhi main chatflow"
      ],
      "metadata": {
        "id": "FeVrY88H0WD1"
      }
    },
    {
      "cell_type": "code",
      "source": [
        "\n",
        "flag = True\n",
        "print(\"Hey! genesis here how can i help you today?for ending text convo you can say bye thank you.....\")\n",
        "while(flag == True):\n",
        "  User_response = input()\n",
        "  User_response = User_response.lower()\n",
        "  if(User_response != 'bye'):\n",
        "    if(User_response == 'thanks' or User_response == 'thank you'):\n",
        "      flag = False\n",
        "      print(\"genesis: you are welcome\")\n",
        "    else:\n",
        "      if(greet(User_response)!= None ):\n",
        "        print(\"genesis: \"+ greet(User_response))\n",
        "      else:\n",
        "        sentence_tokens.append(User_response)\n",
        "        word_tokens = word_tokens + nltk.word_tokenize(User_response)\n",
        "        final_words = list(set(word_tokens))\n",
        "        print(\"genesis: \",end=\"\")\n",
        "        print(response(User_response))\n",
        "        sentence_tokens.remove(User_response)\n",
        "  else:\n",
        "    flag = False\n",
        "    print(\"genesis: bye\")"
      ],
      "metadata": {
        "colab": {
          "base_uri": "https://localhost:8080/"
        },
        "id": "wOW71ezK11zl",
        "outputId": "10d094dc-43b8-478f-85dc-acb89e22abd8"
      },
      "execution_count": null,
      "outputs": [
        {
          "output_type": "stream",
          "name": "stdout",
          "text": [
            "Hey! genesis here how can i help you today?for ending text convo you can say bye thank you.....\n",
            "?what is fight club\n",
            "genesis: 1 = nobody talks about the fight club\n"
          ]
        }
      ]
    }
  ]
}